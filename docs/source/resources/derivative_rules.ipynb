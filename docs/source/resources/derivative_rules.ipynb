{
 "cells": [
  {
   "cell_type": "markdown",
   "metadata": {},
   "source": [
    "# Derivative rules"
   ]
  },
  {
   "cell_type": "markdown",
   "metadata": {},
   "source": [
    "## Standard identities"
   ]
  },
  {
   "cell_type": "markdown",
   "metadata": {},
   "source": [
    "- $f(x) = c \\implies f'(x) = 0$\n",
    "- $f(x) = x^n \\implies f'(x) = nx^{n-1}$\n",
    "- $a^x \\implies f'(x) = a^x \\log a$, and hence $f(x) = e^x \\implies f'(x) = e^x$\n",
    "- $\\log_b x \\implies f'(x) = \\frac{1}{\\log (b) \\cdot x}$, and hence $f(x) = \\log x \\implies f'(x) = \\frac{1}{x}$\n",
    "- $f(x) = \\sin x \\implies f'(x) = \\cos x$\n",
    "- $f(x) = \\cos x \\implies f'(x) = - \\sin x$\n",
    "\n",
    "Moreover, it is useful to remember special cases of the second rule, e.g. \n",
    "- $f(x) = x \\implies f'(x) = 0$\n",
    "- $f(x) = ax \\implies f'(x) = a$\n",
    "- $f(x) = \\sqrt{x} \\implies f'(x) = \\frac{1}{2\\sqrt{x}}$"
   ]
  },
  {
   "cell_type": "markdown",
   "metadata": {},
   "source": [
    "## Combining derivatives"
   ]
  },
  {
   "cell_type": "markdown",
   "metadata": {},
   "source": [
    "- $(c \\cdot f)'(x) = c \\cdot f'(x)$\n",
    "- $(f + g)'(x) = f'(x) + g'(x)$\n",
    "- $(f \\cdot g)'(x) = f'(x) \\cdot g(x) + f(x) \\cdot g'(x)$\n",
    "- $(\\frac{f}{g})'(x) = \\frac{f'(x) g(x) - f(x)g'(x)}{g(x)^2}$\n",
    "- $(f \\circ g)'(x) = (f' \\circ g)(x) \\cdot g'(x)$"
   ]
  }
 ],
 "metadata": {
  "kernelspec": {
   "display_name": "Python 3",
   "language": "python",
   "name": "python3"
  },
  "language_info": {
   "codemirror_mode": {
    "name": "ipython",
    "version": 3
   },
   "file_extension": ".py",
   "mimetype": "text/x-python",
   "name": "python",
   "nbconvert_exporter": "python",
   "pygments_lexer": "ipython3",
   "version": "3.8.4"
  }
 },
 "nbformat": 4,
 "nbformat_minor": 4
}
